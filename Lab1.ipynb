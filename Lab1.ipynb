{
 "cells": [
  {
   "cell_type": "markdown",
   "metadata": {},
   "source": [
    "Darbą atliko: Karolis Banikonis\n",
    "Tikslas:\n",
    "Užduotis 1:\n",
    "Užduotis 2:\n",
    "Užduotis 3:"
   ]
  },
  {
   "cell_type": "code",
   "execution_count": 89,
   "metadata": {},
   "outputs": [],
   "source": [
    "import yfinance\n",
    "import matplotlib.pyplot as plt\n",
    "import numpy as np\n",
    "from statsmodels.tsa.stattools import adfuller, grangercausalitytests\n",
    "import pandas as pd"
   ]
  },
  {
   "cell_type": "markdown",
   "metadata": {},
   "source": [
    "### Duomenų nuskaitymas"
   ]
  },
  {
   "cell_type": "code",
   "execution_count": null,
   "metadata": {},
   "outputs": [],
   "source": [
    "def get_data_from_yahoo(ticker, s_date, e_date):\n",
    "    data = yfinance.Ticker(ticker).history(start=s_date, end=e_date)\n",
    "    data.rename(columns = {\"Close\": ticker}, inplace = True)\n",
    "    return data[ticker]"
   ]
  },
  {
   "cell_type": "code",
   "execution_count": null,
   "metadata": {},
   "outputs": [],
   "source": [
    "ticker1 = \"FUJHY\"\n",
    "ticker2 = \"TM\"\n",
    "s_date = \"2021-01-01\"\n",
    "e_date = \"2023-01-01\"\n",
    "data1 = get_data_from_yahoo(ticker1, s_date, e_date)\n",
    "data2 = get_data_from_yahoo(ticker2, s_date, e_date)"
   ]
  },
  {
   "cell_type": "markdown",
   "metadata": {},
   "source": [
    "### Žvalgomoji analizė"
   ]
  },
  {
   "cell_type": "code",
   "execution_count": null,
   "metadata": {},
   "outputs": [],
   "source": [
    "print(\"Trukstamų reikšmių kiekis:\", data1.isna().sum())\n",
    "print(\"Trukstamų reikšmių kiekis:\", data2.isna().sum())"
   ]
  },
  {
   "cell_type": "code",
   "execution_count": null,
   "metadata": {},
   "outputs": [],
   "source": [
    "print(data1.describe())\n",
    "print(data2.describe())"
   ]
  },
  {
   "cell_type": "code",
   "execution_count": null,
   "metadata": {},
   "outputs": [],
   "source": [
    "def calculate_log_returns(data):\n",
    "    ret = np.log(data).diff()\n",
    "    return ret"
   ]
  },
  {
   "cell_type": "code",
   "execution_count": null,
   "metadata": {},
   "outputs": [],
   "source": [
    "ret1 = calculate_log_returns(data1)\n",
    "ret2 = calculate_log_returns(data2)\n",
    "ret1 = ret1.iloc[1:]\n",
    "ret2 = ret2.iloc[1:]\n",
    "print(\"Trukstamų reikšmių kiekis:\", ret1.isna().sum())\n",
    "print(\"Trukstamų reikšmių kiekis:\", ret2.isna().sum())"
   ]
  },
  {
   "cell_type": "code",
   "execution_count": null,
   "metadata": {},
   "outputs": [],
   "source": [
    "def plot_series(data):\n",
    "    plt.figure(figsize=(10, 6))\n",
    "    plt.plot(data.index, data)\n",
    "    plt.xlabel('Date')\n",
    "    plt.ylabel('USD') #PASITIKRINTI\n",
    "    plt.title(f\"Logarithmic returns of {data.name}\")\n",
    "    plt.axes\n",
    "    plt.show()"
   ]
  },
  {
   "cell_type": "code",
   "execution_count": null,
   "metadata": {},
   "outputs": [],
   "source": [
    "plot_series(ret1)\n",
    "plot_series(ret2)"
   ]
  },
  {
   "cell_type": "markdown",
   "metadata": {},
   "source": [
    "### Užduotis 1. Granger priežastingumo analizė"
   ]
  },
  {
   "cell_type": "code",
   "execution_count": null,
   "metadata": {},
   "outputs": [],
   "source": [
    "df = pd.concat([ret1, ret2], axis=1)"
   ]
  },
  {
   "cell_type": "code",
   "execution_count": null,
   "metadata": {},
   "outputs": [],
   "source": [
    "threshold = 0.05\n",
    "stationary = adfuller(ret2)\n",
    "# stationary[1] # p-reikšmė turi būti mažesnė nei nustatyta riba (threshold)\n",
    "grangercausalitytests(df[['FUJHY', 'TM']], maxlag = 20)"
   ]
  },
  {
   "cell_type": "code",
   "execution_count": null,
   "metadata": {},
   "outputs": [],
   "source": [
    "grangercausalitytests(df[['TM', 'FUJHY']], maxlag = 20)"
   ]
  },
  {
   "cell_type": "code",
   "execution_count": null,
   "metadata": {},
   "outputs": [],
   "source": [
    "diff1 = data1 - data1.shift(1)\n",
    "diff2 = data2 - data2.shift(1)\n",
    "diff1 = diff1.iloc[1:]\n",
    "diff2 = diff2.iloc[1:]\n",
    "df2 = pd.concat([diff1, diff2], axis=1)"
   ]
  },
  {
   "cell_type": "code",
   "execution_count": null,
   "metadata": {},
   "outputs": [],
   "source": [
    "grangercausalitytests(df2[['TM', 'FUJHY']], maxlag = 20)"
   ]
  }
 ],
 "metadata": {
  "kernelspec": {
   "display_name": "Python 3",
   "language": "python",
   "name": "python3"
  },
  "language_info": {
   "codemirror_mode": {
    "name": "ipython",
    "version": 3
   },
   "file_extension": ".py",
   "mimetype": "text/x-python",
   "name": "python",
   "nbconvert_exporter": "python",
   "pygments_lexer": "ipython3",
   "version": "3.10.4"
  },
  "orig_nbformat": 4
 },
 "nbformat": 4,
 "nbformat_minor": 2
}
